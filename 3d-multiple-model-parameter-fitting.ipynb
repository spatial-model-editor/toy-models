{
 "cells": [
  {
   "cell_type": "markdown",
   "id": "0",
   "metadata": {
    "editable": true,
    "slideshow": {
     "slide_type": "slide"
    },
    "tags": []
   },
   "source": [
    "# Multiple model parameter fitting\n",
    "\n",
    "## Starting point\n",
    "- $N$ segmented geometry images $G_i$, each with a target concentration image $T_i$ at some time $t_i$\n",
    "\n",
    "## Navigation\n",
    "\n",
    "- Press `Space` to show the next page\n",
    "- Press `Shift+Space` to show the previous page\n",
    "- Press `Escape` to zoom out- a model using one of these geometry images with reaction parameters $k^{(j)}$ to be fitted"
   ]
  },
  {
   "cell_type": "markdown",
   "id": "1",
   "metadata": {
    "editable": true,
    "slideshow": {
     "slide_type": "subslide"
    },
    "tags": []
   },
   "source": [
    "## Strategy\n",
    "- make N identical copies $M_i$ of the initial sme model and set the parameters to the same input values for all models\n",
    "- update the geometry image for model $M_i$ to $G_i$\n",
    "- simulate each model $M_i$ for time $t_i$\n",
    "- calculate the rms difference between the simulated concentrations of model $M_i$ and the target concentration $T_i$\n",
    "- sum this difference over all models $M_i$ to return a total cost function value for this set of parameters\n",
    "\n",
    "Then feed this cost function into an optimisation algorithm to fit the parameters $k^{(j)}$"
   ]
  },
  {
   "cell_type": "markdown",
   "id": "2",
   "metadata": {
    "editable": true,
    "slideshow": {
     "slide_type": "slide"
    },
    "tags": []
   },
   "source": [
    "### Utility functions\n",
    "These are just used for making the geometry images and plotting."
   ]
  },
  {
   "cell_type": "code",
   "execution_count": null,
   "id": "3",
   "metadata": {
    "editable": true,
    "slideshow": {
     "slide_type": "subslide"
    },
    "tags": []
   },
   "outputs": [],
   "source": [
    "import numpy as np\n",
    "from itertools import cycle\n",
    "import logging\n",
    "\n",
    "import matplotlib.pyplot as plt\n",
    "from matplotlib import animation\n",
    "import matplotlib.colors as mcolors\n",
    "from mpl_toolkits.mplot3d import Axes3D\n",
    "\n",
    "from IPython.display import Image, display, HTML, Video\n",
    "\n",
    "import imageio.v3 as iio\n",
    "import tifffile\n",
    "import skimage\n",
    "from scipy import ndimage as ndi\n",
    "\n",
    "import pyvista as pv\n",
    "\n",
    "pv.global_theme.axes.show = True\n",
    "pv.global_theme.interactive = True\n",
    "plt.rcParams[\"figure.figsize\"] = (4, 4)"
   ]
  },
  {
   "cell_type": "markdown",
   "id": "4",
   "metadata": {
    "editable": true,
    "slideshow": {
     "slide_type": "subslide"
    },
    "tags": []
   },
   "source": [
    "Select the 'trame' jupyter backend below to have run the notebook locally and be able to interact with the plots. See documentation of pyvista for other backends"
   ]
  },
  {
   "cell_type": "code",
   "execution_count": null,
   "id": "5",
   "metadata": {
    "editable": true,
    "slideshow": {
     "slide_type": "fragment"
    },
    "tags": []
   },
   "outputs": [],
   "source": [
    "pv.set_jupyter_backend(\"static\")\n",
    "\n",
    "# pv.set_jupyter_backend(\"trame\") # for interactive plots"
   ]
  },
  {
   "cell_type": "code",
   "execution_count": null,
   "id": "6",
   "metadata": {
    "editable": true,
    "slideshow": {
     "slide_type": "subslide"
    },
    "tags": []
   },
   "outputs": [],
   "source": [
    "def sphere_mask(grid_shape, center, radius, deformation):\n",
    "    # generate a boolean mask for a sphere with given center, radius and deformation\n",
    "    Z, Y, X = grid_shape\n",
    "    z0, y0, x0 = center\n",
    "    dz, dy, dx = deformation\n",
    "    z, y, x = np.ogrid[:Z, :Y, :X]\n",
    "    return dx * (x - x0) ** 2 + dy * (y - y0) ** 2 + dz * (z - z0) ** 2 <= radius**2"
   ]
  },
  {
   "cell_type": "code",
   "execution_count": null,
   "id": "7",
   "metadata": {
    "editable": true,
    "slideshow": {
     "slide_type": "subslide"
    },
    "tags": []
   },
   "outputs": [],
   "source": [
    "def generate_geometry_image(n_pixels):\n",
    "    # generate a segmented image containing one randomly distributed, sized and deformed sphere\n",
    "    max_radius = n_pixels / 3\n",
    "    max_deform = 1.2\n",
    "    voxels = np.zeros((n_pixels, n_pixels, n_pixels), dtype=np.uint16)\n",
    "    center = np.random.randint(2, n_pixels - 2, 3)\n",
    "    nuclear_radius = np.random.randint(1, max_radius / 2)\n",
    "    cell_radius = np.random.randint(1.5 * nuclear_radius, max_radius)\n",
    "    deformation = np.random.uniform(1 / max_deform, max_deform, 3)\n",
    "    voxels[sphere_mask(voxels.shape, center, cell_radius, deformation)] = 2\n",
    "    voxels[sphere_mask(voxels.shape, center, nuclear_radius, deformation)] = 1\n",
    "    return voxels"
   ]
  },
  {
   "cell_type": "code",
   "execution_count": null,
   "id": "8",
   "metadata": {
    "editable": true,
    "slideshow": {
     "slide_type": "subslide"
    },
    "tags": []
   },
   "outputs": [],
   "source": [
    "def make_discrete_colormap(cmap: str = \"tab10\", values: np.array = []) -> list[int]:\n",
    "    \"\"\"Create a discrete colormap of potentially repeating colors of the same size as the `values` array.\n",
    "\n",
    "    Args:\n",
    "        cmap (str, optional): matplotlib colormap name. Defaults to \"tab10\".\n",
    "        values (np.array, optional): values to be mapped to colors. Defaults to [].\n",
    "\n",
    "    Returns:\n",
    "        list[int]: list of color in rgba format.\n",
    "    \"\"\"\n",
    "    cm = [(0, 0, 0, 1)]\n",
    "    i = 0\n",
    "    for c in cycle(plt.get_cmap(cmap).colors):\n",
    "        cm.append(mcolors.to_rgba(c))\n",
    "        if len(cm) >= len(values):\n",
    "            break\n",
    "        i += 1\n",
    "    return cm"
   ]
  },
  {
   "cell_type": "code",
   "execution_count": null,
   "id": "9",
   "metadata": {
    "editable": true,
    "slideshow": {
     "slide_type": "subslide"
    },
    "tags": []
   },
   "outputs": [],
   "source": [
    "def rgb_to_scalar(img: np.ndarray) -> np.ndarray:\n",
    "    \"\"\"Convert an array of RGB values to scalar values.\n",
    "        This function is necessary because pyvista does not support RGB values directly as mesh data\n",
    "\n",
    "    Args:\n",
    "        img (np.ndarray): data to be converted, of shape (n, m, 3)\n",
    "\n",
    "    Returns:\n",
    "        np.ndarray: data converted to scalar values, of shape (n, m)\n",
    "    \"\"\"\n",
    "    reshaped = img.reshape(-1, 3)\n",
    "    unique_rgb, ridx = np.unique(reshaped, axis=0, return_inverse=True)\n",
    "\n",
    "    values = np.arange(len(unique_rgb))\n",
    "    return values[ridx].reshape(img.shape[:-1])"
   ]
  },
  {
   "cell_type": "code",
   "execution_count": null,
   "id": "10",
   "metadata": {
    "editable": true,
    "slideshow": {
     "slide_type": "subslide"
    },
    "tags": []
   },
   "outputs": [],
   "source": [
    "def plot3D(\n",
    "    data: np.ndarray,\n",
    "    title: str | list[str],\n",
    "    threshold_value: int | list[int] = [1, 0],\n",
    "    cmap: str | list[str] = \"tab10\",\n",
    "    with_swap: bool = True,\n",
    "    with_cbar: bool = False,\n",
    "    mesh_kwargs: dict = {},\n",
    ") -> pv.Plotter:\n",
    "    \"\"\"Plot a 3D image with optional auxilary image that can show a differently thresholded version of the same mesh.\n",
    "\n",
    "    Args:\n",
    "        data (np.ndarray): Data to plot\n",
    "        title (str | list[str]): Title for each plot\n",
    "        threshold_value (int | list[int], optional): Treshold values of reach plot. Values below the threshold will not be shown Defaults to [1, 0].\n",
    "        cmap (str | list[str], optional): Name of a matplotlib colormap or a list of colors in RGBA or hex format. Defaults to \"tab10\".\n",
    "        with_swap (bool, optional): Whether axes 0 and 2 should be swapped. Defaults to True.\n",
    "        with_cbar (bool, optional): Show colorbar. Defaults to False.\n",
    "        mesh_kwargs (dict, optional): Other keywor arguments for the pyvista plotter.add_mesh function. Defaults to {}.\n",
    "\n",
    "    Raises:\n",
    "        ValueError: When the input data is not 3D or 4D (for RGB values)\n",
    "        ValueError: When the threshold_value is not a list of two integers when with_aux is True\n",
    "\n",
    "    Returns:\n",
    "        pv.Plotter: pyvista plotter object. Call plotter.show() to display the plot\n",
    "    \"\"\"\n",
    "    if data.ndim not in [3, 4]:\n",
    "        raise ValueError(\"Image must be 3D or 4D (for rgb values)\")\n",
    "\n",
    "    _data = data\n",
    "\n",
    "    plotter = pv.Plotter(border=False, notebook=True)\n",
    "\n",
    "    if with_swap:\n",
    "        _data = np.swapaxes(data, 0, 2).copy()\n",
    "\n",
    "    if len(_data.shape) == 4:\n",
    "        _data = rgb_to_scalar(_data)\n",
    "\n",
    "    if isinstance(threshold_value, int):\n",
    "        threshold_value = [threshold_value, threshold_value]\n",
    "\n",
    "    img_data = pv.ImageData(dimensions=_data.shape, **mesh_kwargs)\n",
    "    img_data.point_data[\"Data\"] = _data.flatten()\n",
    "    img_data = img_data.points_to_cells(scalars=\"Data\")\n",
    "    plotter.subplot(0, 0)\n",
    "    plotter.add_text(title)\n",
    "    plotter.add_mesh(\n",
    "        img_data.threshold(threshold_value[0]),\n",
    "        show_edges=True,\n",
    "        show_scalar_bar=with_cbar,\n",
    "        cmap=cmap,\n",
    "    )\n",
    "    return plotter"
   ]
  },
  {
   "cell_type": "code",
   "execution_count": null,
   "id": "11",
   "metadata": {
    "editable": true,
    "slideshow": {
     "slide_type": "subslide"
    },
    "tags": []
   },
   "outputs": [],
   "source": [
    "def plot_geometry(img_indexed: np.ndarray, title: str):\n",
    "    values = np.unique(img_indexed)\n",
    "    lt = pv.LookupTable(\n",
    "        values=np.array(make_discrete_colormap(cmap=\"tab10\", values=values)) * 255,\n",
    "        scalar_range=(0, len(values)),\n",
    "        n_values=len(values),\n",
    "    )\n",
    "    plotter = plot3D(\n",
    "        img_indexed,\n",
    "        title,\n",
    "        threshold_value=[1, 0],\n",
    "        cmap=lt,\n",
    "    )\n",
    "    plotter.show()"
   ]
  },
  {
   "cell_type": "markdown",
   "id": "12",
   "metadata": {
    "editable": true,
    "slideshow": {
     "slide_type": "slide"
    },
    "tags": []
   },
   "source": [
    "### Model\n",
    "\n",
    "- the model has 3 compartments, with a species in each compartment\n",
    "  - initially the species in the outside compartment has concentration 1, all others are zero\n",
    "- the model has two reaction rate parameters: `k1` and `k2`\n",
    "  - `k1` controls the rate at which stuff flows from the outside to the membrane\n",
    "- each species has a diffusion constant\n",
    "  - e.g. the species `A_membrane` in the membrane has a diffusion constant of 1.0"
   ]
  },
  {
   "cell_type": "code",
   "execution_count": null,
   "id": "13",
   "metadata": {
    "editable": true,
    "slideshow": {
     "slide_type": "subslide"
    },
    "tags": []
   },
   "outputs": [],
   "source": [
    "import sme\n",
    "\n",
    "model = sme.Model(\"3d-model-parameter-fitting.xml\")\n",
    "print(model.parameters[\"k1\"])"
   ]
  },
  {
   "cell_type": "code",
   "execution_count": null,
   "id": "14",
   "metadata": {
    "editable": true,
    "slideshow": {
     "slide_type": "subslide"
    },
    "tags": []
   },
   "outputs": [],
   "source": [
    "print(model.compartments[\"membrane\"].species[\"A_membrane\"])"
   ]
  },
  {
   "cell_type": "markdown",
   "id": "15",
   "metadata": {
    "editable": true,
    "slideshow": {
     "slide_type": "slide"
    },
    "tags": []
   },
   "source": [
    "### Generate segmented input data\n",
    "\n",
    "- construct N 40x40x40 3d images, each with a single randomly distributed, sized and deformed cell / nucleus"
   ]
  },
  {
   "cell_type": "code",
   "execution_count": null,
   "id": "16",
   "metadata": {
    "editable": true,
    "slideshow": {
     "slide_type": "fragment"
    },
    "tags": []
   },
   "outputs": [],
   "source": [
    "N = 3\n",
    "geometry_images = [generate_geometry_image(n_pixels=40) for _ in range(N)]"
   ]
  },
  {
   "cell_type": "markdown",
   "id": "17",
   "metadata": {
    "editable": true,
    "slideshow": {
     "slide_type": "slide"
    },
    "tags": []
   },
   "source": [
    "### Apply geometry images to models\n",
    "\n",
    "- Reactions: `outside <-> membrane` and `membrane <-> cell`\n",
    "- Here we open this model, then import the new geometry image generated above"
   ]
  },
  {
   "cell_type": "code",
   "execution_count": null,
   "id": "18",
   "metadata": {
    "editable": true,
    "slideshow": {
     "slide_type": "subslide"
    },
    "tags": []
   },
   "outputs": [],
   "source": [
    "from sme_contrib.optimize import minimize"
   ]
  },
  {
   "cell_type": "code",
   "execution_count": null,
   "id": "19",
   "metadata": {
    "editable": true,
    "slideshow": {
     "slide_type": "fragment"
    },
    "tags": []
   },
   "outputs": [],
   "source": [
    "models = []\n",
    "for img in geometry_images:\n",
    "    m = sme.Model(\"3d-model-parameter-fitting.xml\")\n",
    "    tifffile.imwrite(\"geom3d.tiff\", img)\n",
    "    m.import_geometry_from_image(\"geom3d.tiff\")\n",
    "    models.append(m)"
   ]
  },
  {
   "cell_type": "code",
   "execution_count": null,
   "id": "20",
   "metadata": {
    "editable": true,
    "slideshow": {
     "slide_type": "subslide"
    },
    "tags": []
   },
   "outputs": [],
   "source": [
    "for model in models:\n",
    "    plot_geometry(model.compartment_image, f\"Geometry Model\")"
   ]
  },
  {
   "cell_type": "markdown",
   "id": "21",
   "metadata": {
    "editable": true,
    "slideshow": {
     "slide_type": "slide"
    },
    "tags": []
   },
   "source": [
    "### Cost function\n",
    "\n",
    "- Takes a list of parameter values, in this case `[k1, diffusion-constant]`\n",
    "- Sets the parameters to the same values in all the models\n",
    "- Simulates each model for time t\n",
    "- Calculates the sum of squares of differences between the target concentration and the simulationed concentration over all voxels and models"
   ]
  },
  {
   "cell_type": "code",
   "execution_count": null,
   "id": "22",
   "metadata": {
    "editable": true,
    "slideshow": {
     "slide_type": "subslide"
    },
    "tags": []
   },
   "outputs": [],
   "source": [
    "def diff(conc: np.ndarray, target: np.ndarray, mask: np.ndarray):\n",
    "    return np.sum(np.power((target - conc)[mask], 2))"
   ]
  },
  {
   "cell_type": "code",
   "execution_count": null,
   "id": "23",
   "metadata": {
    "editable": true,
    "slideshow": {
     "slide_type": "subslide"
    },
    "tags": []
   },
   "outputs": [],
   "source": [
    "# here the target image is just 1 (high concentration for this model) for every voxel:\n",
    "# (in the cost function we only apply this to voxels inside the cell compartment, so here we just set 1 everywhere).\n",
    "target = np.ones_like(geometry_images[0])\n",
    "\n",
    "\n",
    "def cost_function(params: list[float], verbose=False):\n",
    "    t = 10\n",
    "    cost = 0.0\n",
    "\n",
    "    # apply parameters\n",
    "    for model in models:\n",
    "        model.parameters[\"k1\"].value = f\"{params[0]}\"\n",
    "        model.compartments[\"membrane\"].species[\"A_membrane\"].diffusion_constant = (\n",
    "            params[1]\n",
    "        )\n",
    "\n",
    "    # do simulation and calculate cost for each model: which is difference to target for A_cell species concentration in the cell compartment\n",
    "    for i, model in enumerate(models):\n",
    "        results = model.simulate(t, t)\n",
    "        result_cost = diff(\n",
    "            results[-1].species_concentration[\"A_cell\"],\n",
    "            target,\n",
    "            model.compartments[\"cell\"].geometry_mask,\n",
    "        )\n",
    "        if verbose:\n",
    "            logging.info(\n",
    "                f\"model {i}, k1={params[0]}, diffusion-constant={params[1]} -> cost {result_cost}\"\n",
    "            )\n",
    "        cost += result_cost\n",
    "\n",
    "    if verbose:\n",
    "        logging.info(\n",
    "            f\"All models, k1={params[0]}, diffusion-constant={params[1]} -> cost {cost}\"\n",
    "        )\n",
    "    return cost"
   ]
  },
  {
   "cell_type": "code",
   "execution_count": null,
   "id": "24",
   "metadata": {
    "editable": true,
    "slideshow": {
     "slide_type": "subslide"
    },
    "tags": []
   },
   "outputs": [],
   "source": [
    "# this simulates all models with `k1=1.2`, `diffusion-constant=0.7` and returns the total cost function:\n",
    "cost_function([1.2, 0.7], verbose=True)"
   ]
  },
  {
   "cell_type": "markdown",
   "id": "25",
   "metadata": {
    "editable": true,
    "slideshow": {
     "slide_type": "slide"
    },
    "tags": []
   },
   "source": [
    "### Parameter optimization\n",
    "\n",
    "- Sets lower and upper bounds for each parameter\n",
    "- Use particle swarm to try to minimise the cost function\n",
    "\n",
    "Since the target image has a high concentration in the cell, the optimal parameters will just be `k1` and `k2` as large as possible (within the bounds that we set)"
   ]
  },
  {
   "cell_type": "code",
   "execution_count": null,
   "id": "26",
   "metadata": {
    "editable": true,
    "slideshow": {
     "slide_type": "subslide"
    },
    "tags": []
   },
   "outputs": [],
   "source": [
    "lower_bounds = [0.1, 0.1]\n",
    "upper_bounds = [2.0, 2.0]"
   ]
  },
  {
   "cell_type": "code",
   "execution_count": null,
   "id": "27",
   "metadata": {
    "editable": true,
    "slideshow": {
     "slide_type": "subslide"
    },
    "tags": []
   },
   "outputs": [],
   "source": [
    "# particle swarm parameter optimization with 4 particles, 5 iterations, using 4 cpu cores:\n",
    "# (more particles e.g. 20 & iterations e.g. 100, would be needed to get decent results)\n",
    "best_cost, best_params, opt = minimize(\n",
    "    cost_function, lower_bounds, upper_bounds, particles=4, iterations=10, processes=4\n",
    ")"
   ]
  },
  {
   "cell_type": "code",
   "execution_count": null,
   "id": "28",
   "metadata": {
    "editable": true,
    "slideshow": {
     "slide_type": "subslide"
    },
    "tags": []
   },
   "outputs": [],
   "source": [
    "from pyswarms.utils.plotters import plot_cost_history\n",
    "\n",
    "plot_cost_history(cost_history=opt.cost_history)\n",
    "plt.show()"
   ]
  },
  {
   "cell_type": "code",
   "execution_count": null,
   "id": "29",
   "metadata": {
    "editable": true,
    "slideshow": {
     "slide_type": "subslide"
    },
    "tags": []
   },
   "outputs": [],
   "source": [
    "best_params"
   ]
  },
  {
   "cell_type": "code",
   "execution_count": null,
   "id": "30",
   "metadata": {
    "editable": true,
    "slideshow": {
     "slide_type": ""
    },
    "tags": []
   },
   "outputs": [],
   "source": []
  }
 ],
 "metadata": {
  "kernelspec": {
   "display_name": "Python 3 (ipykernel)",
   "language": "python",
   "name": "python3"
  },
  "language_info": {
   "codemirror_mode": {
    "name": "ipython",
    "version": 3
   },
   "file_extension": ".py",
   "mimetype": "text/x-python",
   "name": "python",
   "nbconvert_exporter": "python",
   "pygments_lexer": "ipython3",
   "version": "3.13.1"
  }
 },
 "nbformat": 4,
 "nbformat_minor": 5
}
