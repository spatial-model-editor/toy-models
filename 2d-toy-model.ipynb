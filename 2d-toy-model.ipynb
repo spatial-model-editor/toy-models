{
 "cells": [
  {
   "cell_type": "markdown",
   "id": "0",
   "metadata": {
    "editable": true,
    "slideshow": {
     "slide_type": "slide"
    },
    "tags": []
   },
   "source": [
    "# 2D toy model\n",
    "\n",
    "- start from segmented 2d image of cells\n",
    "- modify image to create explicit membrane compartments\n",
    "- combine cells, combine membranes\n",
    "- create a simple sme model using this geometry\n",
    "- do an example simulation\n",
    "\n",
    "## Navigation\n",
    "\n",
    "- Press `Space` to show the next page\n",
    "- Press `Shift+Space` to show the previous page\n",
    "- Press `Escape` to zoom out"
   ]
  },
  {
   "cell_type": "markdown",
   "id": "1",
   "metadata": {
    "slideshow": {
     "slide_type": "slide"
    },
    "tags": []
   },
   "source": [
    "## Input data"
   ]
  },
  {
   "cell_type": "code",
   "execution_count": null,
   "id": "2",
   "metadata": {
    "editable": true,
    "slideshow": {
     "slide_type": "subslide"
    },
    "tags": []
   },
   "outputs": [],
   "source": [
    "import numpy as np\n",
    "import matplotlib.pyplot as plt\n",
    "from matplotlib import animation\n",
    "import imageio.v3 as iio\n",
    "import skimage\n",
    "import sme\n",
    "from IPython.display import HTML\n",
    "from scipy import ndimage as ndi\n",
    "\n",
    "plt.rcParams[\"figure.figsize\"] = (8, 8)\n",
    "\n",
    "\n",
    "def show_image(img, title=\"\"):\n",
    "    plt.imshow(img, interpolation=\"none\")\n",
    "    plt.title(title)\n",
    "    plt.show()"
   ]
  },
  {
   "cell_type": "code",
   "execution_count": null,
   "id": "3",
   "metadata": {
    "editable": true,
    "slideshow": {
     "slide_type": "subslide"
    },
    "tags": []
   },
   "outputs": [],
   "source": [
    "show_image(\n",
    "    iio.imread(\"C2-sph1_gly_au-0036_segmentedWithCellpose.png\"),\n",
    "    \"Segmentation overlayed on source image\",\n",
    ")"
   ]
  },
  {
   "cell_type": "code",
   "execution_count": null,
   "id": "4",
   "metadata": {
    "slideshow": {
     "slide_type": "subslide"
    },
    "tags": []
   },
   "outputs": [],
   "source": [
    "img_indexed = iio.imread(\"C2-sph1_gly_au-0036_cp_masks.png\")\n",
    "show_image(skimage.color.label2rgb(img_indexed), \"Segmented image\")"
   ]
  },
  {
   "cell_type": "markdown",
   "id": "5",
   "metadata": {
    "slideshow": {
     "slide_type": "slide"
    },
    "tags": []
   },
   "source": [
    "### Generate explicit membranes by dilating each cell\n",
    "\n",
    "- We want to add explicit membrane compartments around each cell.\n",
    "- To do this we take a mask of each cell individually, dilate it, and select the pixels that differ from the original mask\n",
    "- Repeating this over all cells and combining the results gives us a mask of membrane compartment pixels"
   ]
  },
  {
   "cell_type": "code",
   "execution_count": null,
   "id": "6",
   "metadata": {
    "editable": true,
    "slideshow": {
     "slide_type": "fragment"
    },
    "tags": []
   },
   "outputs": [],
   "source": [
    "img_membrane_mask = np.zeros(img_indexed.shape).astype(bool)\n",
    "for index in range(img_indexed.max()):\n",
    "    img = (img_indexed == index).astype(np.uint8)\n",
    "    img_membrane_mask |= ndi.binary_dilation(img, iterations=3) != img"
   ]
  },
  {
   "cell_type": "code",
   "execution_count": null,
   "id": "7",
   "metadata": {
    "editable": true,
    "slideshow": {
     "slide_type": "subslide"
    },
    "tags": []
   },
   "outputs": [],
   "source": [
    "show_image(img_membrane_mask, \"Membrane pixels mask\")"
   ]
  },
  {
   "cell_type": "markdown",
   "id": "8",
   "metadata": {
    "editable": true,
    "slideshow": {
     "slide_type": "subslide"
    },
    "tags": []
   },
   "source": [
    "### Define cells as any segmented pixel excluding membrane pixels\n",
    "\n",
    "- Now we select all pixels that were identified as cells\n",
    "- Then we exclude pixels that are part of the membrane mask to leave a cell mask"
   ]
  },
  {
   "cell_type": "code",
   "execution_count": null,
   "id": "9",
   "metadata": {
    "editable": true,
    "slideshow": {
     "slide_type": "fragment"
    },
    "tags": []
   },
   "outputs": [],
   "source": [
    "img_cell_mask = img_indexed != 0\n",
    "img_cell_mask = img_cell_mask & (img_cell_mask != img_membrane_mask)"
   ]
  },
  {
   "cell_type": "code",
   "execution_count": null,
   "id": "10",
   "metadata": {
    "editable": true,
    "slideshow": {
     "slide_type": "subslide"
    },
    "tags": []
   },
   "outputs": [],
   "source": [
    "show_image(img_cell_mask, \"Cell pixels mask\")"
   ]
  },
  {
   "cell_type": "markdown",
   "id": "11",
   "metadata": {
    "editable": true,
    "slideshow": {
     "slide_type": "slide"
    },
    "tags": []
   },
   "source": [
    "### Construct segmented geometry image for sme\n",
    "\n",
    "- From these masks we can construct a segmented geometry image for sme\n",
    "- Each colour in this image can then be assigned to a compartment in the model"
   ]
  },
  {
   "cell_type": "code",
   "execution_count": null,
   "id": "12",
   "metadata": {
    "editable": true,
    "slideshow": {
     "slide_type": "fragment"
    },
    "tags": []
   },
   "outputs": [],
   "source": [
    "img = np.zeros((*img_cell_mask.shape, 3), dtype=np.uint8)\n",
    "img[img_cell_mask] = [100, 100, 255]\n",
    "img[img_membrane_mask] = [255, 100, 100]\n",
    "iio.imwrite(\"geom.png\", img)"
   ]
  },
  {
   "cell_type": "code",
   "execution_count": null,
   "id": "13",
   "metadata": {
    "editable": true,
    "slideshow": {
     "slide_type": "subslide"
    },
    "tags": []
   },
   "outputs": [],
   "source": [
    "show_image(img, \"Segmented geometry image for sme\")"
   ]
  },
  {
   "cell_type": "markdown",
   "id": "14",
   "metadata": {
    "editable": true,
    "slideshow": {
     "slide_type": "slide"
    },
    "tags": []
   },
   "source": [
    "### Create sme model\n",
    "\n",
    "- This was done using the GUI\n",
    "- Geometry image was downscaled to 512x512 pixels\n",
    "- One species in each compartment, intially only non-zero in outside\n",
    "- Reactions: `outside <-> membrane` and `membrane <-> cell`"
   ]
  },
  {
   "cell_type": "code",
   "execution_count": null,
   "id": "15",
   "metadata": {
    "slideshow": {
     "slide_type": "subslide"
    },
    "tags": []
   },
   "outputs": [],
   "source": [
    "model = sme.Model(\"2d-toy-model.xml\")\n",
    "show_image(model.compartment_image[0, :])"
   ]
  },
  {
   "cell_type": "markdown",
   "id": "16",
   "metadata": {
    "slideshow": {
     "slide_type": "slide"
    },
    "tags": []
   },
   "source": [
    "### Simulate model\n",
    "\n",
    "- simulate for 20000s, storing the results every 100s\n",
    "- this might take a few minutes"
   ]
  },
  {
   "cell_type": "code",
   "execution_count": null,
   "id": "17",
   "metadata": {
    "slideshow": {
     "slide_type": "fragment"
    },
    "tags": []
   },
   "outputs": [],
   "source": [
    "simulation_results = model.simulate(20000, 100)"
   ]
  },
  {
   "cell_type": "markdown",
   "id": "18",
   "metadata": {
    "slideshow": {
     "slide_type": "subslide"
    },
    "tags": []
   },
   "source": [
    "### Create animation of simulation results"
   ]
  },
  {
   "cell_type": "code",
   "execution_count": null,
   "id": "19",
   "metadata": {
    "slideshow": {
     "slide_type": "fragment"
    },
    "tags": []
   },
   "outputs": [],
   "source": [
    "fig, ax = plt.subplots(constrained_layout=True)\n",
    "ax.set_title(f\"Concentration\")\n",
    "norm = plt.Normalize(vmin=0, vmax=1)\n",
    "im = ax.imshow(np.zeros((1, 1)), norm=norm)\n",
    "fig.colorbar(im, ax=ax)\n",
    "artists = [\n",
    "    [\n",
    "        ax.imshow(\n",
    "            sum(simulation_result.species_concentration.values())[0, :],\n",
    "            animated=True,\n",
    "            interpolation=None,\n",
    "            norm=norm,\n",
    "        )\n",
    "    ]\n",
    "    for simulation_result in simulation_results\n",
    "]\n",
    "anim = animation.ArtistAnimation(fig, artists, interval=200, blit=True, repeat=False)\n",
    "plt.close()"
   ]
  },
  {
   "cell_type": "code",
   "execution_count": null,
   "id": "20",
   "metadata": {
    "editable": true,
    "slideshow": {
     "slide_type": "subslide"
    },
    "tags": []
   },
   "outputs": [],
   "source": [
    "HTML(anim.to_html5_video())"
   ]
  },
  {
   "cell_type": "code",
   "execution_count": null,
   "id": "21",
   "metadata": {
    "editable": true,
    "slideshow": {
     "slide_type": ""
    },
    "tags": []
   },
   "outputs": [],
   "source": []
  }
 ],
 "metadata": {
  "kernelspec": {
   "display_name": "Python 3 (ipykernel)",
   "language": "python",
   "name": "python3"
  },
  "language_info": {
   "codemirror_mode": {
    "name": "ipython",
    "version": 3
   },
   "file_extension": ".py",
   "mimetype": "text/x-python",
   "name": "python",
   "nbconvert_exporter": "python",
   "pygments_lexer": "ipython3",
   "version": "3.10.0"
  }
 },
 "nbformat": 4,
 "nbformat_minor": 5
}
