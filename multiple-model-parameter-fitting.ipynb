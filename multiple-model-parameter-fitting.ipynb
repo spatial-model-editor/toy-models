{
 "cells": [
  {
   "cell_type": "markdown",
   "id": "0",
   "metadata": {
    "editable": true,
    "slideshow": {
     "slide_type": "slide"
    },
    "tags": []
   },
   "source": [
    "# Multiple model parameter fitting\n",
    "\n",
    "## Starting point\n",
    "- $N$ segmented geometry images $G_i$, each with a target concentration image $T_i$ at some time $t_i$\n",
    "- a model using one of these geometry images with reaction parameters $k^{(j)}$ to be fitted\n",
    "\n",
    "## Strategy\n",
    "- make N identical copies $M_i$ of the initial sme model and set the parameters to the same input values for all models\n",
    "- update the geometry image for model $M_i$ to $G_i$\n",
    "- simulate each model $M_i$ for time $t_i$\n",
    "- calculate the rms difference between the simulated concentrations of model $M_i$ and the target concentration $T_i$\n",
    "- sum this difference over all models $M_i$ to return a total cost function value for this set of parameters\n",
    "\n",
    "Then feed this cost function into an optimisation algorithm to fit the parameters $k^{(j)}$\n",
    "\n",
    "## Navigation\n",
    "\n",
    "- Press `Space` to show the next page\n",
    "- Press `Shift+Space` to show the previous page\n",
    "- Press `Escape` to zoom out"
   ]
  },
  {
   "cell_type": "markdown",
   "id": "1",
   "metadata": {},
   "source": [
    "## Utility functions"
   ]
  },
  {
   "cell_type": "code",
   "execution_count": null,
   "id": "2",
   "metadata": {},
   "outputs": [],
   "source": [
    "from itertools import cycle\n",
    "\n",
    "import matplotlib.pyplot as plt\n",
    "from matplotlib import animation\n",
    "import matplotlib.colors as mcolors\n",
    "from mpl_toolkits.mplot3d import Axes3D\n",
    "\n",
    "from IPython.display import Image, display, HTML, Video\n",
    "\n",
    "import numpy as np\n",
    "import imageio.v3 as iio\n",
    "import tifffile\n",
    "import skimage\n",
    "from scipy import ndimage as ndi\n",
    "import sme\n",
    "import pyvista as pv\n",
    "\n",
    "pv.global_theme.axes.show = True\n",
    "pv.global_theme.interactive = True\n",
    "plt.rcParams[\"figure.figsize\"] = (8, 8)"
   ]
  },
  {
   "cell_type": "code",
   "execution_count": null,
   "id": "3",
   "metadata": {
    "slideshow": {
     "slide_type": "fragment"
    }
   },
   "outputs": [],
   "source": [
    "pv.set_jupyter_backend(\"static\")\n",
    "\n",
    "# pv.set_jupyter_backend(\"trame\") # for interactive plots"
   ]
  },
  {
   "cell_type": "code",
   "execution_count": null,
   "id": "4",
   "metadata": {
    "slideshow": {
     "slide_type": "subslide"
    }
   },
   "outputs": [],
   "source": [
    "def make_discrete_colormap(cmap: str = \"tab10\", values: np.array = []) -> list[int]:\n",
    "    \"\"\"Create a discrete colormap of potentially repeating colors of the same size as the `values` array.\n",
    "\n",
    "    Args:\n",
    "        cmap (str, optional): matplotlib colormap name. Defaults to \"tab10\".\n",
    "        values (np.array, optional): values to be mapped to colors. Defaults to [].\n",
    "\n",
    "    Returns:\n",
    "        list[int]: list of color in rgba format.\n",
    "    \"\"\"\n",
    "    cm = [(0, 0, 0, 1)]\n",
    "    i = 0\n",
    "    for c in cycle(plt.get_cmap(cmap).colors):\n",
    "        cm.append(mcolors.to_rgba(c))\n",
    "        if len(cm) >= len(values):\n",
    "            break\n",
    "        i += 1\n",
    "    return cm"
   ]
  },
  {
   "cell_type": "code",
   "execution_count": null,
   "id": "5",
   "metadata": {
    "slideshow": {
     "slide_type": "subslide"
    }
   },
   "outputs": [],
   "source": [
    "def rgb_to_scalar(img: np.ndarray) -> np.ndarray:\n",
    "    \"\"\"Convert an array of RGB values to scalar values.\n",
    "        This function is necessary because pyvista does not support RGB values directly as mesh data\n",
    "\n",
    "    Args:\n",
    "        img (np.ndarray): data to be converted, of shape (n, m, 3)\n",
    "\n",
    "    Returns:\n",
    "        np.ndarray: data converted to scalar values, of shape (n, m)\n",
    "    \"\"\"\n",
    "    reshaped = img.reshape(-1, 3, copy=True)\n",
    "    unique_rgb, ridx = np.unique(reshaped, axis=0, return_inverse=True)\n",
    "\n",
    "    values = np.arange(len(unique_rgb))\n",
    "    return values[ridx].reshape(img.shape[:-1])"
   ]
  },
  {
   "cell_type": "code",
   "execution_count": null,
   "id": "6",
   "metadata": {},
   "outputs": [],
   "source": [
    "def plot3D(\n",
    "    data: np.ndarray,\n",
    "    title: str | list[str],\n",
    "    threshold_value: int | list[int] = [1, 0],\n",
    "    cmap: str | list[str] = \"tab10\",\n",
    "    with_swap: bool = True,\n",
    "    with_aux: bool = True,\n",
    "    with_cbar: bool = False,\n",
    "    mesh_kwargs: dict = {},\n",
    ") -> pv.Plotter:\n",
    "    \"\"\"Plot a 3D image with optional auxilary image that can show a differently thresholded version of the same mesh.\n",
    "\n",
    "    Args:\n",
    "        data (np.ndarray): Data to plot\n",
    "        title (str | list[str]): Title for each plot\n",
    "        threshold_value (int | list[int], optional): Treshold values of reach plot. Values below the threshold will not be shown Defaults to [1, 0].\n",
    "        cmap (str | list[str], optional): Name of a matplotlib colormap or a list of colors in RGBA or hex format. Defaults to \"tab10\".\n",
    "        with_swap (bool, optional): Whether axes 0 and 2 should be swapped. Defaults to True.\n",
    "        with_aux (bool, optional): Enable second plot. Defaults to True.\n",
    "        with_cbar (bool, optional): Show colorbar. Defaults to False.\n",
    "        mesh_kwargs (dict, optional): Other keywor arguments for the pyvista plotter.add_mesh function. Defaults to {}.\n",
    "\n",
    "    Raises:\n",
    "        ValueError: When the input data is not 3D or 4D (for RGB values)\n",
    "        ValueError: When the title is not a list of two strings when with_aux is True\n",
    "        ValueError: When the threshold_value is not a list of two integers when with_aux is True\n",
    "\n",
    "    Returns:\n",
    "        pv.Plotter: pyvista plotter object. Call plotter.show() to display the plot\n",
    "    \"\"\"\n",
    "    if data.ndim not in [3, 4]:\n",
    "        raise ValueError(\"Image must be 3D or 4D (for rgb values)\")\n",
    "\n",
    "    _data = data\n",
    "\n",
    "    plotter = pv.Plotter(shape=(1, 2 if with_aux else 1), border=False, notebook=True)\n",
    "\n",
    "    if with_aux and (len(title) != 2 or isinstance(title, str)):\n",
    "        raise ValueError(\"Two title must be provided for the two subplots\")\n",
    "\n",
    "    if with_aux and (len(threshold_value) != 2 or isinstance(threshold_value, int)):\n",
    "        raise ValueError(\"Two threshold values must be provided for the two subplots\")\n",
    "\n",
    "    if with_swap:\n",
    "        _data = np.swapaxes(data, 0, 2).copy()\n",
    "\n",
    "    if len(_data.shape) == 4:\n",
    "        _data = rgb_to_scalar(_data)\n",
    "\n",
    "    if isinstance(threshold_value, int):\n",
    "        threshold_value = [threshold_value, threshold_value]\n",
    "\n",
    "    img_data = pv.ImageData(dimensions=_data.shape, **mesh_kwargs)\n",
    "    img_data.point_data[\"Data\"] = _data.flatten()\n",
    "    img_data = img_data.points_to_cells(scalars=\"Data\")\n",
    "    plotter.subplot(0, 0)\n",
    "    plotter.add_text(title[0] if isinstance(title, list) else title)\n",
    "    plotter.add_mesh(\n",
    "        img_data.threshold(threshold_value[0]),\n",
    "        show_edges=True,\n",
    "        show_scalar_bar=with_cbar,\n",
    "        cmap=cmap,\n",
    "    )\n",
    "\n",
    "    if with_aux:\n",
    "        plotter.subplot(0, 1)\n",
    "        plotter.add_text(title[1] if isinstance(title, list) else title)\n",
    "        plotter.add_mesh(\n",
    "            img_data.threshold(threshold_value[1]),\n",
    "            show_edges=True,\n",
    "            show_scalar_bar=with_cbar,\n",
    "            cmap=cmap,\n",
    "        )\n",
    "        plotter.link_views()\n",
    "    return plotter"
   ]
  },
  {
   "cell_type": "code",
   "execution_count": null,
   "id": "7",
   "metadata": {
    "slideshow": {
     "slide_type": "subslide"
    }
   },
   "outputs": [],
   "source": [
    "def plot_indexed(img_indexed):\n",
    "    values = np.unique(img_indexed)\n",
    "    print(values)\n",
    "    lt = pv.LookupTable(\n",
    "        values=np.array(make_discrete_colormap(cmap=\"tab10\", values=values)) * 255,\n",
    "        scalar_range=(0, len(values)),\n",
    "        n_values=len(values),\n",
    "    )\n",
    "    print(lt)\n",
    "    plotter = plot3D(\n",
    "        img_indexed,\n",
    "        [\"Segmented image (voxel)\", \"Segmented image (surface)\"],\n",
    "        threshold_value=[1, 0],\n",
    "        cmap=lt,\n",
    "    )\n",
    "    print(lt)\n",
    "    plotter.show()"
   ]
  },
  {
   "cell_type": "markdown",
   "id": "8",
   "metadata": {
    "slideshow": {
     "slide_type": "subslide"
    }
   },
   "source": [
    "Select the 'trame' jupyter backend below to have run the notebook locally and be able to interact with the plots. See documentation of pyvista for other backends"
   ]
  },
  {
   "cell_type": "markdown",
   "id": "9",
   "metadata": {
    "slideshow": {
     "slide_type": "slide"
    },
    "tags": []
   },
   "source": [
    "## Geometry images"
   ]
  },
  {
   "cell_type": "code",
   "execution_count": null,
   "id": "10",
   "metadata": {},
   "outputs": [],
   "source": [
    "def sphere_mask(grid_shape, center, radius, deformation):\n",
    "    # generate a boolean mask for a sphere with given center, radius and deformation\n",
    "    Z, Y, X = grid_shape\n",
    "    z0, y0, x0 = center\n",
    "    dz, dy, dx = deformation\n",
    "    z, y, x = np.ogrid[:Z, :Y, :X]\n",
    "    return dx * (x - x0) ** 2 + dy * (y - y0) ** 2 + dz * (z - z0) ** 2 <= radius**2"
   ]
  },
  {
   "cell_type": "code",
   "execution_count": null,
   "id": "11",
   "metadata": {},
   "outputs": [],
   "source": [
    "def geometry_image(n_pixels):\n",
    "    # generate a segmented image containing one randomly distributed, sized and deformed sphere\n",
    "    max_radius = n_pixels / 3\n",
    "    max_deform = 1.2\n",
    "    voxels = np.zeros((n_pixels, n_pixels, n_pixels), dtype=np.uint16)\n",
    "    center = np.random.randint(2, n_pixels - 2, 3)\n",
    "    nuclear_radius = np.random.randint(1, max_radius / 2)\n",
    "    cell_radius = np.random.randint(1.5 * nuclear_radius, max_radius)\n",
    "    deformation = np.random.uniform(1 / max_deform, max_deform, 3)\n",
    "    voxels[sphere_mask(voxels.shape, center, cell_radius, deformation)] = 2\n",
    "    voxels[sphere_mask(voxels.shape, center, nuclear_radius, deformation)] = 1\n",
    "    return voxels"
   ]
  },
  {
   "cell_type": "code",
   "execution_count": null,
   "id": "12",
   "metadata": {},
   "outputs": [],
   "source": [
    "np.sum(geometry_image(30) == 2)"
   ]
  },
  {
   "cell_type": "code",
   "execution_count": null,
   "id": "13",
   "metadata": {},
   "outputs": [],
   "source": [
    "img_indexed = geometry_image(30)\n",
    "values = np.unique(img_indexed)\n",
    "lt = pv.LookupTable(\n",
    "    values=np.array(make_discrete_colormap(cmap=\"tab10\", values=values)) * 255,\n",
    "    scalar_range=(0, len(values)),\n",
    "    n_values=len(values),\n",
    ")"
   ]
  },
  {
   "cell_type": "code",
   "execution_count": null,
   "id": "14",
   "metadata": {},
   "outputs": [],
   "source": [
    "lt"
   ]
  },
  {
   "cell_type": "code",
   "execution_count": null,
   "id": "15",
   "metadata": {},
   "outputs": [],
   "source": [
    "plotter = plot3D(\n",
    "    img_indexed,\n",
    "    [\"Segmented image (voxel)\", \"Segmented image (surface)\"],\n",
    "    threshold_value=[1, 0],\n",
    "    cmap=lt,\n",
    ")"
   ]
  },
  {
   "cell_type": "code",
   "execution_count": null,
   "id": "16",
   "metadata": {},
   "outputs": [],
   "source": [
    "plotter.show()"
   ]
  },
  {
   "cell_type": "code",
   "execution_count": null,
   "id": "17",
   "metadata": {},
   "outputs": [],
   "source": [
    "plot_indexed(geometry_image(30))"
   ]
  },
  {
   "cell_type": "markdown",
   "id": "18",
   "metadata": {
    "slideshow": {
     "slide_type": "slide"
    },
    "tags": []
   },
   "source": [
    "## SME model"
   ]
  },
  {
   "cell_type": "code",
   "execution_count": null,
   "id": "19",
   "metadata": {},
   "outputs": [],
   "source": [
    "import sme"
   ]
  },
  {
   "cell_type": "code",
   "execution_count": null,
   "id": "20",
   "metadata": {},
   "outputs": [],
   "source": [
    "# do example simulation, plot geometry image"
   ]
  },
  {
   "cell_type": "markdown",
   "id": "21",
   "metadata": {
    "slideshow": {
     "slide_type": "slide"
    },
    "tags": []
   },
   "source": [
    "## Geometry images"
   ]
  },
  {
   "cell_type": "code",
   "execution_count": null,
   "id": "22",
   "metadata": {},
   "outputs": [],
   "source": [
    "# load geometry images\n",
    "# make copies of model\n",
    "# assign geometry to each\n",
    "# do example simulation for each"
   ]
  },
  {
   "cell_type": "markdown",
   "id": "23",
   "metadata": {
    "slideshow": {
     "slide_type": "slide"
    },
    "tags": []
   },
   "source": [
    "## Target concentration images"
   ]
  },
  {
   "cell_type": "code",
   "execution_count": null,
   "id": "24",
   "metadata": {},
   "outputs": [],
   "source": [
    "# plot target conc, simulated conc for each model\n",
    "# calculate cost function for each, total cost"
   ]
  },
  {
   "cell_type": "markdown",
   "id": "25",
   "metadata": {
    "slideshow": {
     "slide_type": "slide"
    },
    "tags": []
   },
   "source": [
    "## Particle swarm parameter optimization"
   ]
  },
  {
   "cell_type": "code",
   "execution_count": null,
   "id": "26",
   "metadata": {},
   "outputs": [],
   "source": [
    "# plot target conc, simulated conc for each model\n",
    "# calculate cost function for each, total cost"
   ]
  },
  {
   "cell_type": "markdown",
   "id": "27",
   "metadata": {
    "slideshow": {
     "slide_type": "slide"
    },
    "tags": []
   },
   "source": [
    "## Final results"
   ]
  },
  {
   "cell_type": "code",
   "execution_count": null,
   "id": "28",
   "metadata": {},
   "outputs": [],
   "source": [
    "# plot final simulation concs vs target concs for all models"
   ]
  },
  {
   "cell_type": "code",
   "execution_count": null,
   "id": "29",
   "metadata": {},
   "outputs": [],
   "source": []
  }
 ],
 "metadata": {
  "kernelspec": {
   "display_name": "Python 3 (ipykernel)",
   "language": "python",
   "name": "python3"
  },
  "language_info": {
   "codemirror_mode": {
    "name": "ipython",
    "version": 3
   },
   "file_extension": ".py",
   "mimetype": "text/x-python",
   "name": "python",
   "nbconvert_exporter": "python",
   "pygments_lexer": "ipython3",
   "version": "3.13.1"
  }
 },
 "nbformat": 4,
 "nbformat_minor": 5
}
